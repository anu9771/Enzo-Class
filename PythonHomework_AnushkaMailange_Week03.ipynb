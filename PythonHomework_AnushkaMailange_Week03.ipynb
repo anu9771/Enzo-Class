{
  "nbformat": 4,
  "nbformat_minor": 0,
  "metadata": {
    "colab": {
      "provenance": []
    },
    "kernelspec": {
      "name": "python3",
      "display_name": "Python 3"
    },
    "language_info": {
      "name": "python"
    }
  },
  "cells": [
    {
      "cell_type": "markdown",
      "source": [
        "Defining Functions"
      ],
      "metadata": {
        "id": "hPlUkSsvL-Ug"
      }
    },
    {
      "cell_type": "markdown",
      "source": [],
      "metadata": {
        "id": "tEWghB4RL3hn"
      }
    },
    {
      "cell_type": "code",
      "source": [
        "def findsqroot(num,iter,val):\n",
        "  guess=num/2\n",
        "\n",
        "  #Counter for number of iterations\n",
        "  i=0\n",
        "\n",
        "  #Until counter reach the number of iteratins, guess=0.5*(previous guess+(s/previous guess))\n",
        "  while i<=iter:\n",
        "    i+=1\n",
        "    guess=0.5*(guess+(num/guess))\n",
        "    if guess-0.5*(guess+(num/guess))<val:\n",
        "      break\n",
        "\n",
        "  return guess\n",
        "\n",
        "findsqroot(25,10,0.00001)\n",
        "\n"
      ],
      "metadata": {
        "colab": {
          "base_uri": "https://localhost:8080/"
        },
        "id": "YsKUyUxyMzhp",
        "outputId": "0f29e1e3-f9f3-4823-fcd6-f0ae9519be33"
      },
      "execution_count": null,
      "outputs": [
        {
          "output_type": "execute_result",
          "data": {
            "text/plain": [
              "5.000000000016778"
            ]
          },
          "metadata": {},
          "execution_count": 10
        }
      ]
    }
  ]
}