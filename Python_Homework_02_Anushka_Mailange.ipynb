{
  "nbformat": 4,
  "nbformat_minor": 0,
  "metadata": {
    "colab": {
      "provenance": []
    },
    "kernelspec": {
      "name": "python3",
      "display_name": "Python 3"
    },
    "language_info": {
      "name": "python"
    }
  },
  "cells": [
    {
      "cell_type": "markdown",
      "source": [
        "\n",
        "\n",
        "*   **This first code is to execute Heron's method for a specified tolarence**\n",
        "\n",
        "\n",
        "\n"
      ],
      "metadata": {
        "id": "G_XRo1CYV-hB"
      }
    },
    {
      "cell_type": "code",
      "source": [
        "#List of numbers and the initial guess is input/2\n",
        "list=[2,9,16,25]\n",
        "for s in list:\n",
        "  guess=s/2\n",
        "\n",
        "  #while the difference between two consecutive gusses is greater than 0.0000001, guess=0.5*(previous guess+(s/previous guess))\n",
        "  while((guess-(0.5*(guess+(s/guess))))>0.000000001):\n",
        "    guess=0.5*(guess+(s/guess))\n",
        "  print(guess)\n",
        ""
      ],
      "metadata": {
        "colab": {
          "base_uri": "https://localhost:8080/"
        },
        "id": "q2-pYlqKO9Xt",
        "outputId": "07238151-f319-4eef-b98e-23026142b06d"
      },
      "execution_count": 50,
      "outputs": [
        {
          "output_type": "stream",
          "name": "stdout",
          "text": [
            "1.0\n",
            "3.0000000000393214\n",
            "4.000000000000004\n",
            "5.000000000016778\n"
          ]
        }
      ]
    },
    {
      "cell_type": "markdown",
      "source": [
        "**My Observations**\n",
        "\n",
        "By coding like this, you will get the correct square root values for numbers >=4. if the initial guess is taken by s/(something less than 2), you would get better results for numbers even less than 4.\n",
        "\n"
      ],
      "metadata": {
        "id": "iqaHA3ZfZuuR"
      }
    },
    {
      "cell_type": "markdown",
      "source": [],
      "metadata": {
        "id": "5NVbU0YFZXsW"
      }
    },
    {
      "cell_type": "markdown",
      "source": [
        "\n",
        "\n",
        "*   **This second code is to execute Heron's method for given number of iterations**\n",
        "\n",
        "\n",
        "\n"
      ],
      "metadata": {
        "id": "oZMoMpDTRd7G"
      }
    },
    {
      "cell_type": "code",
      "execution_count": 51,
      "metadata": {
        "colab": {
          "base_uri": "https://localhost:8080/"
        },
        "id": "wTVPzLxqKhqm",
        "outputId": "3fc102e5-94da-4f2a-ee4d-63b7c893b35f"
      },
      "outputs": [
        {
          "output_type": "stream",
          "name": "stdout",
          "text": [
            "1.414213562373095\n",
            "3.0\n",
            "4.0\n",
            "5.0\n"
          ]
        }
      ],
      "source": [
        "#In the list, numbers are given that needed to find the squareroots of\n",
        "list=[2,9,16,25]\n",
        "\n",
        "#Number of iterations for each number\n",
        "NumberOfIterations=100\n",
        "for s in list:\n",
        "\n",
        "  #Initial guess\n",
        "  guess=s/2\n",
        "\n",
        "  #Counter for number of iterations\n",
        "  i=0\n",
        "\n",
        "\n",
        "  #Until counter reach the number of iteratins, guess=0.5*(previous guess+(s/previous guess))\n",
        "  while i<=NumberOfIterations:\n",
        "    i+=1\n",
        "    guess=0.5*(guess+(s/guess))\n",
        "  print(guess)\n",
        "\n",
        "\n",
        "\n",
        "\n"
      ]
    }
  ]
}