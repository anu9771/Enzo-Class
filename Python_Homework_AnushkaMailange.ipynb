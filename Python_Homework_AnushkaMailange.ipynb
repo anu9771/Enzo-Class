{
  "nbformat": 4,
  "nbformat_minor": 0,
  "metadata": {
    "colab": {
      "provenance": []
    },
    "kernelspec": {
      "name": "python3",
      "display_name": "Python 3"
    },
    "language_info": {
      "name": "python"
    }
  },
  "cells": [
    {
      "cell_type": "markdown",
      "source": [
        "Create three variables: a, b, and c.\n",
        "\n",
        "Assign an integer value of 8 to a.\n",
        "Assign a floating-point number of 3.5 to b.\n",
        "\n",
        "Assign a string to c that includes your full name.\n",
        "\n"
      ],
      "metadata": {
        "id": "odmKQYECLOFm"
      }
    },
    {
      "cell_type": "code",
      "execution_count": 52,
      "metadata": {
        "id": "G80ZjH1ZKlok"
      },
      "outputs": [],
      "source": [
        "a=8\n",
        "b=3.5\n",
        "c=\"Anushka Udara Mailange\""
      ]
    },
    {
      "cell_type": "markdown",
      "source": [],
      "metadata": {
        "id": "KBtOOn7aLkdS"
      }
    },
    {
      "cell_type": "markdown",
      "source": [
        "Print the values of a, b, and c.\n",
        "\n",
        "Determine the type of each variable using the type() function and print the results.\n",
        "\n",
        "Perform the following arithmetic operations:\n",
        "\n",
        "Add a and b and print the result.\n",
        "\n",
        "Subtract b from a and print the result.\n",
        "\n",
        "Multiply a and b and print the result.\n",
        "\n",
        "Divide a by b and print the result.\n",
        "\n",
        "Calculate a raised to the power of 3 and print the result.\n",
        "\n",
        "Convert a to a float and b to an integer and print the new values and their types [Hint: Python has built-in functions to convert into any specific datatype, e.g. int(), float(), and str()].\n",
        "\n",
        "Concatenate the string in c with the string \" is learning Python.\" and print the result [Hint: explore the behavior of the “+” operator when it acts on the string datatype].\n",
        "\n"
      ],
      "metadata": {
        "id": "YgYeoxM9LtH-"
      }
    },
    {
      "cell_type": "code",
      "source": [
        "print(a)\n",
        "print(b)\n",
        "print(c)"
      ],
      "metadata": {
        "colab": {
          "base_uri": "https://localhost:8080/"
        },
        "id": "6Y0Ko2x-LJJr",
        "outputId": "81fdefa3-ffb8-4501-fd15-071b162b5d78"
      },
      "execution_count": 53,
      "outputs": [
        {
          "output_type": "stream",
          "name": "stdout",
          "text": [
            "8\n",
            "3.5\n",
            "Anushka Udara Mailange\n"
          ]
        }
      ]
    },
    {
      "cell_type": "code",
      "source": [
        "print(type(a))\n",
        "print(type(b))\n",
        "print(type(c))"
      ],
      "metadata": {
        "colab": {
          "base_uri": "https://localhost:8080/"
        },
        "id": "3lD5FakRMMaQ",
        "outputId": "b4069dc0-813f-44ac-a8fd-40383cb3c807"
      },
      "execution_count": 54,
      "outputs": [
        {
          "output_type": "stream",
          "name": "stdout",
          "text": [
            "<class 'int'>\n",
            "<class 'float'>\n",
            "<class 'str'>\n"
          ]
        }
      ]
    },
    {
      "cell_type": "code",
      "source": [
        "print(a+b)\n",
        "print(a-b)\n",
        "print(a*b)\n",
        "print(a/b)\n",
        "print(a**3)"
      ],
      "metadata": {
        "colab": {
          "base_uri": "https://localhost:8080/"
        },
        "id": "_f2ekfwrMbnx",
        "outputId": "4f817b29-2a1e-43ea-b07b-4b27a7b49e9d"
      },
      "execution_count": 55,
      "outputs": [
        {
          "output_type": "stream",
          "name": "stdout",
          "text": [
            "11.5\n",
            "4.5\n",
            "28.0\n",
            "2.2857142857142856\n",
            "512\n"
          ]
        }
      ]
    },
    {
      "cell_type": "code",
      "source": [
        "a=float(a)\n",
        "b=int(b)\n",
        "print(a)\n",
        "print(b)\n",
        "print(type(a))\n",
        "print(type(b))"
      ],
      "metadata": {
        "colab": {
          "base_uri": "https://localhost:8080/"
        },
        "id": "O4b18q5lMqZ2",
        "outputId": "513771fa-3cb7-49ae-f59b-72b0aa01030f"
      },
      "execution_count": 65,
      "outputs": [
        {
          "output_type": "stream",
          "name": "stdout",
          "text": [
            "8.0\n",
            "3\n",
            "<class 'float'>\n",
            "<class 'int'>\n"
          ]
        }
      ]
    },
    {
      "cell_type": "code",
      "source": [
        "print(c+\" is learning Python\")"
      ],
      "metadata": {
        "colab": {
          "base_uri": "https://localhost:8080/"
        },
        "id": "y9nxVcX6M9FY",
        "outputId": "4e81b772-90cd-4f51-e314-a59161f86e4c"
      },
      "execution_count": 57,
      "outputs": [
        {
          "output_type": "stream",
          "name": "stdout",
          "text": [
            "Anushka Udara Mailange is learning Python\n"
          ]
        }
      ]
    },
    {
      "cell_type": "markdown",
      "source": [
        "Create a list named my_list containing the following elements:\n",
        "\n",
        "The integer 10.\n",
        "\n",
        "The float 3.14.\n",
        "\n",
        "The string \"Python\".\n",
        "\n",
        "Another list containing the elements 4, 5, 6 [Note: a list can contain any datatype even a list!].\n",
        "\n",
        "The string \"Homework\".\n"
      ],
      "metadata": {
        "id": "E24NeLBfNO9p"
      }
    },
    {
      "cell_type": "code",
      "source": [
        "my_list=[10,3.14,\"Python\",[4,5,6],\"Homework\"]"
      ],
      "metadata": {
        "id": "1vQIaB_LNUTU"
      },
      "execution_count": 58,
      "outputs": []
    },
    {
      "cell_type": "markdown",
      "source": [
        "Print the entire my_list.\n",
        "\n",
        "Print the length of my_list [Hint: explore the behavior of the len() built-in function].\n",
        "\n",
        "Access and print the third element in my_list.\n",
        "\n",
        "Access and print the second element from the inner list.\n",
        "\n",
        "Replace the first element in my_list with the result of the arithmetic expression a * b.\n",
        "\n",
        "Print the updated list.\n",
        "\n",
        "Add a new element \"End\" to the end of my_list using the appropriate list method and print the updated list [Hint: there are several ways to do this, a simple one is to explore the behavior of the “+” operator when acting on two lists].\n"
      ],
      "metadata": {
        "id": "h5_HYnJlNmLK"
      }
    },
    {
      "cell_type": "code",
      "source": [
        "print(my_list)"
      ],
      "metadata": {
        "colab": {
          "base_uri": "https://localhost:8080/"
        },
        "id": "RB1xtM8eNiBh",
        "outputId": "84ddd32d-f7e6-4c1e-c876-fb95f6286116"
      },
      "execution_count": 59,
      "outputs": [
        {
          "output_type": "stream",
          "name": "stdout",
          "text": [
            "[10, 3.14, 'Python', [4, 5, 6], 'Homework']\n"
          ]
        }
      ]
    },
    {
      "cell_type": "code",
      "source": [
        "print(len(my_list))"
      ],
      "metadata": {
        "colab": {
          "base_uri": "https://localhost:8080/"
        },
        "id": "JwNNVSwdN7I9",
        "outputId": "ef47fa7e-12c6-4d89-e807-a04fe0f58d04"
      },
      "execution_count": 60,
      "outputs": [
        {
          "output_type": "stream",
          "name": "stdout",
          "text": [
            "5\n"
          ]
        }
      ]
    },
    {
      "cell_type": "code",
      "source": [
        "print(my_list[2])"
      ],
      "metadata": {
        "colab": {
          "base_uri": "https://localhost:8080/"
        },
        "id": "tbx47uUSN-5U",
        "outputId": "d8c71294-166e-449a-c594-ba1a647a9f35"
      },
      "execution_count": 61,
      "outputs": [
        {
          "output_type": "stream",
          "name": "stdout",
          "text": [
            "Python\n"
          ]
        }
      ]
    },
    {
      "cell_type": "code",
      "source": [
        "print(my_list[3][1])"
      ],
      "metadata": {
        "colab": {
          "base_uri": "https://localhost:8080/"
        },
        "id": "T4Cyvnc_OEEl",
        "outputId": "a15d56b5-7cad-4236-edc3-0aa73762d3ac"
      },
      "execution_count": 62,
      "outputs": [
        {
          "output_type": "stream",
          "name": "stdout",
          "text": [
            "5\n"
          ]
        }
      ]
    },
    {
      "cell_type": "code",
      "source": [
        "my_list[0]=a*b\n",
        "print(my_list)"
      ],
      "metadata": {
        "colab": {
          "base_uri": "https://localhost:8080/"
        },
        "id": "Fds1njuWOLlq",
        "outputId": "0d89914d-7543-4b7a-bad2-39013ab7020e"
      },
      "execution_count": 63,
      "outputs": [
        {
          "output_type": "stream",
          "name": "stdout",
          "text": [
            "[24.0, 3.14, 'Python', [4, 5, 6], 'Homework']\n"
          ]
        }
      ]
    },
    {
      "cell_type": "code",
      "source": [
        "my_list=my_list+[\"End\"]\n",
        "print(my_list)\n"
      ],
      "metadata": {
        "colab": {
          "base_uri": "https://localhost:8080/"
        },
        "id": "mmlXMh5mOube",
        "outputId": "06a10d30-684a-42e1-e9c0-b44487ac35ec"
      },
      "execution_count": 64,
      "outputs": [
        {
          "output_type": "stream",
          "name": "stdout",
          "text": [
            "[24.0, 3.14, 'Python', [4, 5, 6], 'Homework', 'End']\n"
          ]
        }
      ]
    }
  ]
}